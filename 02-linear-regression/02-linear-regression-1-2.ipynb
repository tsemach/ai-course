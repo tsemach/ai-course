{
 "cells": [
  {
   "cell_type": "code",
   "execution_count": 13,
   "id": "438aa584",
   "metadata": {},
   "outputs": [],
   "source": [
    "import torch\n",
    "import numpy as np\n",
    "import matplotlib.pyplot as plt\n",
    "from torch.autograd import Variable"
   ]
  },
  {
   "cell_type": "code",
   "execution_count": 14,
   "id": "fc287c88",
   "metadata": {},
   "outputs": [
    {
     "data": {
      "text/plain": [
       "Text(0, 0.5, 'Y')"
      ]
     },
     "execution_count": 14,
     "metadata": {},
     "output_type": "execute_result"
    },
    {
     "data": {
      "image/png": "[encoded data removed]",
      "text/plain": [
       "<Figure size 432x288 with 1 Axes>"
      ]
     },
     "metadata": {
      "needs_background": "light"
     },
     "output_type": "display_data"
    }
   ],
   "source": [
    "torch.manual_seed(2)\n",
    "\n",
    "# create dummy data for training\n",
    "x_train = torch.randn(100, 1) * 10\n",
    "y_train = x_train + 3 * torch.randn(100, 1)\n",
    "\n",
    "x_train = x_train.numpy()\n",
    "y_train = y_train.numpy()\n",
    "\n",
    "inputs = Variable(torch.from_numpy(x_train))\n",
    "labels = Variable(torch.from_numpy(y_train))\n",
    "\n",
    "plt.plot(x_train, y_train, 'o')             # plot the new X,Y \n",
    "plt.xlabel('X')\n",
    "plt.ylabel('Y')"
   ]
  },
  {
   "cell_type": "code",
   "execution_count": 15,
   "id": "02dc21dd",
   "metadata": {
    "lines_to_next_cell": 1
   },
   "outputs": [],
   "source": [
    "class LR(torch.nn.Module):\n",
    "\n",
    "  def __init__(self, input_size, output_size):\n",
    "    super().__init__()\n",
    "    self.linear = torch.nn.Linear(input_size, output_size)\n",
    "\n",
    "  def forward(self, x):    \n",
    "    return self.linear(x)    \n",
    "    \n",
    "  def get_parameters(self):\n",
    "    (w, b) = self.parameters()\n",
    "\n",
    "    return (w[0][0].item(), b[0].item()) "
   ]
  },
  {
   "cell_type": "code",
   "execution_count": 16,
   "id": "4aa3aded",
   "metadata": {},
   "outputs": [],
   "source": [
    "input_dim = 1        # takes variable 'x' \n",
    "output_dim = 1       # takes variable 'y'\n",
    "learning_rate = 0.01 \n",
    "epochs = 100\n",
    "\n",
    "model = LR(input_dim, output_dim) \n",
    "   \n",
    "if torch.cuda.is_available():\n",
    "    model.cuda()"
   ]
  },
  {
   "cell_type": "code",
   "execution_count": 17,
   "id": "5285b4ac",
   "metadata": {},
   "outputs": [],
   "source": [
    "def plot_fit(model: LR, title: str):\n",
    "  plt.title(title)\n",
    "\n",
    "  w, b = model.get_parameters()\n",
    "  print(w, b)\n",
    "  x1 = np.array([-30, 30])\n",
    "\n",
    "  y1 = w * x1 + b\n",
    "\n",
    "  plt.plot(x1, y1, 'r')\n",
    "  plt.scatter(x_train, y_train)\n",
    "  plt.xlabel('X')\n",
    "  plt.ylabel('Y')\n",
    "  plt.show()"
   ]
  },
  {
   "cell_type": "code",
   "execution_count": 18,
   "id": "c84255db",
   "metadata": {},
   "outputs": [
    {
     "name": "stdout",
     "output_type": "stream",
     "text": [
      "0.26434898376464844 -0.05657529830932617\n"
     ]
    },
    {
     "data": {
      "image/png": "[encoded data removed]",
      "text/plain": [
       "<Figure size 432x288 with 1 Axes>"
      ]
     },
     "metadata": {
      "needs_background": "light"
     },
     "output_type": "display_data"
    }
   ],
   "source": [
    "plot_fit(model, 'Initial Model')"
   ]
  },
  {
   "cell_type": "code",
   "execution_count": 19,
   "id": "fda3cb17",
   "metadata": {},
   "outputs": [],
   "source": [
    "criterion = torch.nn.MSELoss() \n",
    "optimizer = torch.optim.SGD(model.parameters(), lr=learning_rate)"
   ]
  },
  {
   "cell_type": "code",
   "execution_count": 20,
   "id": "51d3eb24",
   "metadata": {},
   "outputs": [
    {
     "name": "stdout",
     "output_type": "stream",
     "text": [
      "epoch 0, loss 57.68190383911133\n",
      "epoch 1, loss 54.539520263671875\n",
      "epoch 2, loss 51.6008186340332\n",
      "epoch 3, loss 48.8525276184082\n",
      "epoch 4, loss 46.28233337402344\n",
      "epoch 5, loss 43.878692626953125\n",
      "epoch 6, loss 41.630863189697266\n",
      "epoch 7, loss 39.52867889404297\n",
      "epoch 8, loss 37.56272506713867\n",
      "epoch 9, loss 35.724185943603516\n",
      "epoch 10, loss 34.0047721862793\n",
      "epoch 11, loss 32.39680480957031\n",
      "epoch 12, loss 30.893033981323242\n",
      "epoch 13, loss 29.486738204956055\n",
      "epoch 14, loss 28.171571731567383\n",
      "epoch 15, loss 26.941621780395508\n",
      "epoch 16, loss 25.791410446166992\n",
      "epoch 17, loss 24.715723037719727\n",
      "epoch 18, loss 23.709735870361328\n",
      "epoch 19, loss 22.768957138061523\n",
      "epoch 20, loss 21.889142990112305\n",
      "epoch 21, loss 21.066333770751953\n",
      "epoch 22, loss 20.296859741210938\n",
      "epoch 23, loss 19.577255249023438\n",
      "epoch 24, loss 18.90427017211914\n",
      "epoch 25, loss 18.274904251098633\n",
      "epoch 26, loss 17.686328887939453\n",
      "epoch 27, loss 17.135892868041992\n",
      "epoch 28, loss 16.621129989624023\n",
      "epoch 29, loss 16.139728546142578\n",
      "epoch 30, loss 15.689528465270996\n",
      "epoch 31, loss 15.268498420715332\n",
      "epoch 32, loss 14.874756813049316\n",
      "epoch 33, loss 14.506526947021484\n",
      "epoch 34, loss 14.162160873413086\n",
      "epoch 35, loss 13.840112686157227\n",
      "epoch 36, loss 13.538932800292969\n",
      "epoch 37, loss 13.257275581359863\n",
      "epoch 38, loss 12.99386978149414\n",
      "epoch 39, loss 12.747530937194824\n",
      "epoch 40, loss 12.517158508300781\n",
      "epoch 41, loss 12.301708221435547\n",
      "epoch 42, loss 12.100225448608398\n",
      "epoch 43, loss 11.91180419921875\n",
      "epoch 44, loss 11.735588073730469\n",
      "epoch 45, loss 11.570795059204102\n",
      "epoch 46, loss 11.416679382324219\n",
      "epoch 47, loss 11.272552490234375\n",
      "epoch 48, loss 11.137764930725098\n",
      "epoch 49, loss 11.01171588897705\n",
      "epoch 50, loss 10.893834114074707\n",
      "epoch 51, loss 10.783590316772461\n",
      "epoch 52, loss 10.680486679077148\n",
      "epoch 53, loss 10.584070205688477\n",
      "epoch 54, loss 10.493901252746582\n",
      "epoch 55, loss 10.40957260131836\n",
      "epoch 56, loss 10.330711364746094\n",
      "epoch 57, loss 10.25696086883545\n",
      "epoch 58, loss 10.187989234924316\n",
      "epoch 59, loss 10.123486518859863\n",
      "epoch 60, loss 10.063163757324219\n",
      "epoch 61, loss 10.006750106811523\n",
      "epoch 62, loss 9.953993797302246\n",
      "epoch 63, loss 9.904655456542969\n",
      "epoch 64, loss 9.858515739440918\n",
      "epoch 65, loss 9.815364837646484\n",
      "epoch 66, loss 9.775010108947754\n",
      "epoch 67, loss 9.73727035522461\n",
      "epoch 68, loss 9.701974868774414\n",
      "epoch 69, loss 9.668968200683594\n",
      "epoch 70, loss 9.638101577758789\n",
      "epoch 71, loss 9.609234809875488\n",
      "epoch 72, loss 9.582239151000977\n",
      "epoch 73, loss 9.556992530822754\n",
      "epoch 74, loss 9.533382415771484\n",
      "epoch 75, loss 9.511301040649414\n",
      "epoch 76, loss 9.49065113067627\n",
      "epoch 77, loss 9.471339225769043\n",
      "epoch 78, loss 9.453280448913574\n",
      "epoch 79, loss 9.436389923095703\n",
      "epoch 80, loss 9.4205961227417\n",
      "epoch 81, loss 9.405823707580566\n",
      "epoch 82, loss 9.392008781433105\n",
      "epoch 83, loss 9.379090309143066\n",
      "epoch 84, loss 9.367009162902832\n",
      "epoch 85, loss 9.355711936950684\n",
      "epoch 86, loss 9.345144271850586\n",
      "epoch 87, loss 9.335262298583984\n",
      "epoch 88, loss 9.326019287109375\n",
      "epoch 89, loss 9.317377090454102\n",
      "epoch 90, loss 9.309293746948242\n",
      "epoch 91, loss 9.301736831665039\n",
      "epoch 92, loss 9.294666290283203\n",
      "epoch 93, loss 9.288054466247559\n",
      "epoch 94, loss 9.281872749328613\n",
      "epoch 95, loss 9.276089668273926\n",
      "epoch 96, loss 9.270683288574219\n",
      "epoch 97, loss 9.265626907348633\n",
      "epoch 98, loss 9.260895729064941\n",
      "epoch 99, loss 9.256474494934082\n"
     ]
    }
   ],
   "source": [
    "losses = []\n",
    "\n",
    "for epoch in range(epochs):  \n",
    "  # inputs = Variable(torch.from_numpy(x_train))\n",
    "  # labels = Variable(torch.from_numpy(y_train))\n",
    "\n",
    "  # clear gradient buffers because we don't want any gradient from previous epoch to carry forward, dont want to cummulate gradients\n",
    "  optimizer.zero_grad()\n",
    "\n",
    "  # get output from the model, given the inputs\n",
    "  outputs = model(inputs)\n",
    "\n",
    "  # get loss for the predicted output\n",
    "  loss = criterion(outputs, labels)\n",
    "\n",
    "  # add the lost for plotting\n",
    "  losses.append(loss.item())\n",
    "\n",
    "  # get gradients w.r.t to parameters\n",
    "  loss.backward()\n",
    "\n",
    "  # update parameters\n",
    "  optimizer.step()\n",
    "\n",
    "  print('epoch {}, loss {}'.format(epoch, loss.item()))"
   ]
  },
  {
   "cell_type": "code",
   "execution_count": 21,
   "id": "58624c9d",
   "metadata": {},
   "outputs": [
    {
     "data": {
      "text/plain": [
       "Text(0.5, 0, 'epoch')"
      ]
     },
     "execution_count": 21,
     "metadata": {},
     "output_type": "execute_result"
    },
    {
     "data": {
      "image/png": "[encoded data removed]",
      "text/plain": [
       "<Figure size 432x288 with 1 Axes>"
      ]
     },
     "metadata": {
      "needs_background": "light"
     },
     "output_type": "display_data"
    }
   ],
   "source": [
    "plt.plot(range(epochs), losses)\n",
    "plt.ylabel('Loss')\n",
    "plt.xlabel('epoch')"
   ]
  },
  {
   "cell_type": "code",
   "execution_count": 22,
   "id": "2d7695a4",
   "metadata": {},
   "outputs": [
    {
     "data": {
      "image/png": "[encoded data removed]",
      "text/plain": [
       "<Figure size 432x288 with 1 Axes>"
      ]
     },
     "metadata": {
      "needs_background": "light"
     },
     "output_type": "display_data"
    }
   ],
   "source": [
    "with torch.no_grad(): # we don't need gradients in the testing phase\n",
    "  if torch.cuda.is_available():\n",
    "    predicted = model(Variable(torch.from_numpy(x_train).cuda())).cpu().data.numpy()\n",
    "  else:\n",
    "    predicted = model(Variable(torch.from_numpy(x_train))).data.numpy()\n",
    "\n",
    "plt.plot(x_train, y_train, 'go', label='True data', alpha=0.5)\n",
    "plt.plot(x_train, predicted, '--', label='Predictions', alpha=0.5)\n",
    "plt.legend(loc='best')\n",
    "plt.show()\n"
   ]
  },
  {
   "cell_type": "code",
   "execution_count": 23,
   "id": "ad4076a8",
   "metadata": {
    "lines_to_next_cell": 0
   },
   "outputs": [
    {
     "data": {
      "text/plain": [
       "Text(0.5, 0, 'epoch')"
      ]
     },
     "execution_count": 23,
     "metadata": {},
     "output_type": "execute_result"
    },
    {
     "data": {
      "image/png": "[encoded data removed]",
      "text/plain": [
       "<Figure size 432x288 with 1 Axes>"
      ]
     },
     "metadata": {
      "needs_background": "light"
     },
     "output_type": "display_data"
    }
   ],
   "source": [
    "import matplotlib.pyplot as plt\n",
    "\n",
    "plt.plot(x_train, y_train, 'go', label='True data', alpha=0.5)\n",
    "plt.plot(x_train, predicted, '--', label='Predictions', alpha=0.5)\n",
    "\n",
    "# plt.plot(range(epochs), losses)\n",
    "plt.ylabel('Loss')\n",
    "plt.xlabel('epoch')"
   ]
  }
 ],
 "metadata": {
  "jupytext": {
   "cell_metadata_filter": "-all",
   "main_language": "python",
   "notebook_metadata_filter": "-all"
  },
  "kernelspec": {
   "display_name": "pytorch",
   "language": "python",
   "name": "python3"
  },
  "language_info": {
   "codemirror_mode": {
    "name": "ipython",
    "version": 3
   },
   "file_extension": ".py",
   "mimetype": "text/x-python",
   "name": "python",
   "nbconvert_exporter": "python",
   "pygments_lexer": "ipython3",
   "version": "3.9.7 (default, Sep 16 2021, 13:09:58) \n[GCC 7.5.0]"
  },
  "vscode": {
   "interpreter": {
    "hash": "c590231b1f51d5989b4da41967eebbefbfcb31b0fc59fef77bba73aea16a6209"
   }
  }
 },
 "nbformat": 4,
 "nbformat_minor": 5
}
