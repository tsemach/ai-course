{
 "cells": [
  {
   "attachments": {},
   "cell_type": "markdown",
   "metadata": {},
   "source": [
    "## Foundations: Clean Data\n",
    "\n",
    "Using the Titanic dataset from [this](https://www.kaggle.com/c/titanic/overview) Kaggle competition.\n",
    "\n",
    "This dataset contains information about 891 people who were on board the ship when departed on April 15th, 1912. As noted in the description on Kaggle's website, some people aboard the ship were more likely to survive the wreck than others. There were not enough lifeboats for everybody so women, children, and the upper-class were prioritized. Using the information about these 891 passengers, the challenge is to build a model to predict which people would survive based on the following fields:\n",
    "\n",
    "- **Name** (str) - Name of the passenger\n",
    "- **Pclass** (int) - Ticket class\n",
    "- **Sex** (str) - Sex of the passenger\n",
    "- **Age** (float) - Age in years\n",
    "- **SibSp** (int) - Number of siblings and spouses aboard\n",
    "- **Parch** (int) - Number of parents and children aboard\n",
    "- **Ticket** (str) - Ticket number\n",
    "- **Fare** (float) - Passenger fare\n",
    "- **Cabin** (str) - Cabin number\n",
    "- **Embarked** (str) - Port of embarkation (C = Cherbourg, Q = Queenstown, S = Southampton)"
   ]
  },
  {
   "attachments": {},
   "cell_type": "markdown",
   "metadata": {},
   "source": [
    "### Read The Data"
   ]
  },
  {
   "cell_type": "code",
   "execution_count": 4,
   "metadata": {},
   "outputs": [],
   "source": [
    "import matplotlib.pyplot as plt\n",
    "import numpy as np\n",
    "import pandas as pd\n",
    "import seaborn as sns\n",
    "%matplotlib inline"
   ]
  },
  {
   "cell_type": "code",
   "execution_count": 5,
   "metadata": {},
   "outputs": [],
   "source": [
    "titanic = pd.read_csv('titanic.csv')\n",
    "titanic.head()\n",
    "df = titanic"
   ]
  },
  {
   "attachments": {},
   "cell_type": "markdown",
   "metadata": {},
   "source": [
    "Each row represents one person. The columns describe different attributes about the person including whether they survived (S\n",
    "), their age (A\n",
    "), their passenger-class (C\n",
    "), their sex (G\n",
    ") and the fare they paid (X\n",
    ")."
   ]
  },
  {
   "attachments": {},
   "cell_type": "markdown",
   "metadata": {},
   "source": [
    "Each row represents one person. The columns describe different attributes about the person including whether they \n",
    "survived `(S)`, their age `(A)`, their passenger-class `(C)`, their sex `(G)` and the fare they paid `(X)`.\n",
    "\n",
    "#### [Quetion] Calculate the conditional probability that a person survives given their sex and passenger-class:\n",
    "P(S= true | G=female,C=1)\n",
    "\n",
    "P(S= true | G=female,C=2)\n",
    "\n",
    "P(S= true | G=female,C=3)\n",
    "\n",
    "P(S= true | G=male,C=1)\n",
    "\n",
    "P(S= true | G=male,C=2)\n",
    "\n",
    "P(S= true | G=male,C=3)\n",
    "\n",
    "[Guiding]\n",
    "Calculating the probability of a relevant survived group to need first to the amount of survives divided by the total amount of the group. \n",
    "For example: `len(df[(df[\"Survived\"]==1) & (df[\"Sex\"]==\"female\")])` will provide the number of female passenger that are survived. So you need to add a condition of `class=1` to find the total number of female passenger belong to first class that are survived.\n",
    "\n",
    "Use the same principle to calculate the total numer of female passeger belong to first class.\n",
    "Then calculate all of the following."
   ]
  },
  {
   "cell_type": "code",
   "execution_count": 19,
   "metadata": {},
   "outputs": [
    {
     "name": "stdout",
     "output_type": "stream",
     "text": [
      "the len of female passenger that are survived:  233\n"
     ]
    }
   ],
   "source": [
    "print('the len of female passenger that are survived: ', len(titanic[(df[\"Survived\"]==1) & (df[\"Sex\"]==\"female\")]))"
   ]
  },
  {
   "attachments": {},
   "cell_type": "markdown",
   "metadata": {},
   "source": [
    "### Fare Avrage\n",
    "[`Quetion`] calculate the total fare mean and the fare mean of each class. Use column `Pclass` [1,2,3] to select each class.\n",
    "The mean is calculate by the method `.mean()`"
   ]
  },
  {
   "cell_type": "code",
   "execution_count": null,
   "metadata": {},
   "outputs": [],
   "source": [
    "print(\"Average fare of all passengers -->   {:.4f}\".format(<add the code here>)\n",
    "      \n",
    "# How much you have to pay for the different classes in average?\n",
    "print(\"First class mean cost -->  {:.4f}\".format(<add the code here>)\n",
    "print(\"Second class mean cost -->  {:.4f}\".format(<add the code here>)\n",
    "print(\"Third class mean cost -->  {:.4f}\".format(<add the code here>)"
   ]
  },
  {
   "attachments": {},
   "cell_type": "markdown",
   "metadata": {},
   "source": [
    "### Age \n",
    "[`question`] find the mean, min and max of Age column"
   ]
  },
  {
   "cell_type": "code",
   "execution_count": null,
   "metadata": {},
   "outputs": [],
   "source": [
    "# average age of all passengers\n",
    "print(\"Average age of all passengers -->  {0:.1f}\".format(<add your code here>)\n",
    "print(\"Age of oldest passenger -->  {:.1f}\".format(<add your code here>)\n",
    "print(\"Age of youngest passenger -->  {:.1f}\".format(<add your code here>)"
   ]
  },
  {
   "attachments": {},
   "cell_type": "markdown",
   "metadata": {},
   "source": [
    "### Plot Data\n",
    "Use the method `sns.countplot` to plot a bar of relevent column. \n",
    "Plot the colum of `Survived` and title it with `plt.title` method"
   ]
  },
  {
   "cell_type": "code",
   "execution_count": null,
   "metadata": {},
   "outputs": [],
   "source": [
    "<add you code here>"
   ]
  },
  {
   "cell_type": "code",
   "execution_count": null,
   "metadata": {},
   "outputs": [],
   "source": [
    "sns.countplot(x=\"Survived\", hue=\"Sex\", data=df)\n",
    "plt.title(\"No. of people survived and died separated into women and men\")"
   ]
  },
  {
   "cell_type": "code",
   "execution_count": null,
   "metadata": {},
   "outputs": [],
   "source": [
    "sns.countplot(x=\"Survived\", hue=\"Pclass\", data=df)\n",
    "plt.title(\"No. of people survived from different classes\")"
   ]
  },
  {
   "attachments": {},
   "cell_type": "markdown",
   "metadata": {},
   "source": [
    "Use the method `sns.distplot` to display the the fare distribution and the costs from the different classes."
   ]
  },
  {
   "cell_type": "code",
   "execution_count": null,
   "metadata": {},
   "outputs": [],
   "source": [
    "<add you code here>"
   ]
  },
  {
   "attachments": {},
   "cell_type": "markdown",
   "metadata": {},
   "source": [
    "In the following we can clearly see that most passengers did not have any siblings/spouses or parents/children aboard"
   ]
  },
  {
   "cell_type": "code",
   "execution_count": null,
   "metadata": {},
   "outputs": [],
   "source": [
    "sns.distplot(df[\"SibSp\"], kde=False)\n",
    "plt.title(\"Number of siblings and spouses on board of each passenger\")"
   ]
  },
  {
   "attachments": {},
   "cell_type": "markdown",
   "metadata": {},
   "source": [
    "Use the method `sns.distplot` to display the distribution of the ages of the passengers.\n",
    "Add title `Ages of passengers` by using plt.title"
   ]
  },
  {
   "cell_type": "code",
   "execution_count": null,
   "metadata": {},
   "outputs": [],
   "source": [
    "<add you code here>"
   ]
  },
  {
   "attachments": {},
   "cell_type": "markdown",
   "metadata": {},
   "source": [
    "# Data Preperation"
   ]
  }
 ],
 "metadata": {
  "kernelspec": {
   "display_name": "ai",
   "language": "python",
   "name": "python3"
  },
  "language_info": {
   "codemirror_mode": {
    "name": "ipython",
    "version": 3
   },
   "file_extension": ".py",
   "mimetype": "text/x-python",
   "name": "python",
   "nbconvert_exporter": "python",
   "pygments_lexer": "ipython3",
   "version": "3.9.16"
  },
  "vscode": {
   "interpreter": {
    "hash": "5f1d363a5d564a07e75a27174019c991e4d9e69e7fd4751dfd8d2b3e541af730"
   }
  }
 },
 "nbformat": 4,
 "nbformat_minor": 2
}
