{
 "cells": [
  {
   "cell_type": "code",
   "execution_count": 19,
   "metadata": {},
   "outputs": [],
   "source": [
    "import torch\n",
    "import matplotlib as plt"
   ]
  },
  {
   "attachments": {},
   "cell_type": "markdown",
   "metadata": {},
   "source": [
    "We will define `w` and `b` as the parameter of the linear line as `y = w * x + b`"
   ]
  },
  {
   "cell_type": "code",
   "execution_count": 20,
   "metadata": {},
   "outputs": [],
   "source": [
    "w = torch.tensor(3.0, requires_grad=True) # initial with random number\n",
    "b = torch.tensor(1.0, requires_grad=True) # initial with random number"
   ]
  },
  {
   "attachments": {},
   "cell_type": "markdown",
   "metadata": {},
   "source": [
    "### Define our perdiction model"
   ]
  },
  {
   "cell_type": "code",
   "execution_count": 21,
   "metadata": {},
   "outputs": [],
   "source": [
    "def forward(x):\n",
    "  y = w * x  + b\n",
    "  \n",
    "  return y"
   ]
  },
  {
   "attachments": {},
   "cell_type": "markdown",
   "metadata": {},
   "source": [
    "Make a prediction"
   ]
  },
  {
   "cell_type": "code",
   "execution_count": 22,
   "metadata": {},
   "outputs": [
    {
     "data": {
      "text/plain": [
       "tensor(7., grad_fn=<AddBackward0>)"
      ]
     },
     "execution_count": 22,
     "metadata": {},
     "output_type": "execute_result"
    }
   ],
   "source": [
    "x = torch.tensor(2.) # use x = 2.0, the expect value of y is 7 as 3 * 2 + 1 = 7 (w * x + b)\n",
    "forward(x)"
   ]
  },
  {
   "cell_type": "code",
   "execution_count": 23,
   "metadata": {},
   "outputs": [
    {
     "data": {
      "text/plain": [
       "tensor([[13.],\n",
       "        [22.],\n",
       "        [10.]], grad_fn=<AddBackward0>)"
      ]
     },
     "execution_count": 23,
     "metadata": {},
     "output_type": "execute_result"
    }
   ],
   "source": [
    "x = torch.tensor([[4], [7], [3]])\n",
    "forward(x)"
   ]
  },
  {
   "attachments": {},
   "cell_type": "markdown",
   "metadata": {},
   "source": [
    "### Use PyTorch `Linear` Class"
   ]
  },
  {
   "cell_type": "code",
   "execution_count": 24,
   "metadata": {},
   "outputs": [
    {
     "name": "stdout",
     "output_type": "stream",
     "text": [
      "Parameter containing:\n",
      "tensor([-0.4414], requires_grad=True)\n",
      "Parameter containing:\n",
      "tensor([[0.5153]], requires_grad=True)\n"
     ]
    }
   ],
   "source": [
    "from torch.nn import Linear\n",
    "\n",
    "torch.manual_seed(1)\n",
    "\n",
    "model = Linear(in_features=1, out_features=1) # in features are the weight or also called parameters\n",
    "print(model.bias)\n",
    "print(model.weight)"
   ]
  },
  {
   "attachments": {},
   "cell_type": "markdown",
   "metadata": {},
   "source": [
    "Make a prediction"
   ]
  },
  {
   "cell_type": "code",
   "execution_count": 25,
   "metadata": {},
   "outputs": [
    {
     "name": "stdout",
     "output_type": "stream",
     "text": [
      "tensor([[0.5891],\n",
      "        [1.2590]], grad_fn=<AddmmBackward>)\n"
     ]
    }
   ],
   "source": [
    "x = torch.tensor([[2.], [3.3]]) # make a prediction for two numbers\n",
    "y = model(x)\n",
    "print(y)"
   ]
  },
  {
   "attachments": {},
   "cell_type": "markdown",
   "metadata": {},
   "source": [
    "Use custom module of Linear class"
   ]
  },
  {
   "cell_type": "code",
   "execution_count": 26,
   "metadata": {},
   "outputs": [],
   "source": [
    "import torch.nn as nn\n",
    "\n",
    "class LR(nn.Module):\n",
    "  def __init__(self, in_size, out_size):\n",
    "    super().__init__()\n",
    "\n",
    "    self.linear = nn.Linear(in_size, out_size) \n",
    "\n",
    "  def forward(self, x):\n",
    "    y = self.linear(x)\n",
    "\n",
    "    return y"
   ]
  },
  {
   "attachments": {},
   "cell_type": "markdown",
   "metadata": {},
   "source": [
    "Check the model and print out the parameters"
   ]
  },
  {
   "cell_type": "code",
   "execution_count": 27,
   "metadata": {},
   "outputs": [
    {
     "name": "stdout",
     "output_type": "stream",
     "text": [
      "[Parameter containing:\n",
      "tensor([[0.5153]], requires_grad=True), Parameter containing:\n",
      "tensor([-0.4414], requires_grad=True)]\n"
     ]
    }
   ],
   "source": [
    "torch.manual_seed(1)\n",
    "model = LR(1, 1)\n",
    "print(list(model.parameters()))"
   ]
  },
  {
   "attachments": {},
   "cell_type": "markdown",
   "metadata": {},
   "source": [
    "Make a prediction"
   ]
  },
  {
   "cell_type": "code",
   "execution_count": 28,
   "metadata": {},
   "outputs": [
    {
     "name": "stdout",
     "output_type": "stream",
     "text": [
      "tensor([[0.0739],\n",
      "        [0.5891]], grad_fn=<AddmmBackward>)\n"
     ]
    }
   ],
   "source": [
    "x = torch.tensor([[1.], [2.]])\n",
    "print(model.forward(x)) "
   ]
  },
  {
   "attachments": {},
   "cell_type": "markdown",
   "metadata": {},
   "source": [
    "### Create the training set"
   ]
  },
  {
   "cell_type": "code",
   "execution_count": 29,
   "metadata": {},
   "outputs": [
    {
     "data": {
      "text/plain": [
       "Text(0, 0.5, 'Y')"
      ]
     },
     "execution_count": 29,
     "metadata": {},
     "output_type": "execute_result"
    },
    {
     "data": {
      "image/png": "[encoded data removed]",
      "text/plain": [
       "<Figure size 432x288 with 1 Axes>"
      ]
     },
     "metadata": {
      "needs_background": "light"
     },
     "output_type": "display_data"
    }
   ],
   "source": [
    "import matplotlib.pyplot as plt\n",
    "\n",
    "torch.manual_seed(1)\n",
    "\n",
    "X = torch.randn(100, 1) * 10 # create vector of dim(100, 1) which is normal distrubute\n",
    "plt.plot(X, X, 'o')             # plot X,Y use 'o' point for each coordinate\n",
    "\n",
    "Y = X + 3 * torch.randn(100, 1) # create Y with little nois\n",
    "plt.plot(X, Y, 'o')             # plot the new X,Y \n",
    "plt.xlabel('X')\n",
    "plt.ylabel('Y')"
   ]
  },
  {
   "attachments": {},
   "cell_type": "markdown",
   "metadata": {},
   "source": [
    "Draw the line of the prediction"
   ]
  },
  {
   "cell_type": "code",
   "execution_count": 30,
   "metadata": {},
   "outputs": [],
   "source": [
    "import torch.nn as nn\n",
    "\n",
    "class LR(nn.Module):\n",
    "  def __init__(self, in_size, out_size):\n",
    "    super().__init__()\n",
    "\n",
    "    self.linear = nn.Linear(in_size, out_size) \n",
    "\n",
    "  def forward(self, x):\n",
    "    y = self.linear(x)\n",
    "\n",
    "    return y\n",
    "\n",
    "  def get_parameters(self):\n",
    "    (w, b) = self.parameters()\n",
    "\n",
    "    return (w[0][0].item(), b[0].item())  "
   ]
  },
  {
   "cell_type": "code",
   "execution_count": 31,
   "metadata": {},
   "outputs": [
    {
     "name": "stdout",
     "output_type": "stream",
     "text": [
      "[0.5152631998062134, -0.44137823581695557]\n"
     ]
    }
   ],
   "source": [
    "torch.manual_seed(1)\n",
    "model = LR(1, 1)\n",
    "print(list(model.get_parameters()))"
   ]
  },
  {
   "cell_type": "code",
   "execution_count": 32,
   "metadata": {},
   "outputs": [],
   "source": [
    "import numpy as np\n",
    "\n",
    "def plot_fit(model: LR, title: str):\n",
    "  plt.title(title)\n",
    "\n",
    "  w, b = model.get_parameters()\n",
    "  print(w, b)\n",
    "  x1 = np.array([-30, 30])\n",
    "\n",
    "  y1 = w * x1 + b\n",
    "\n",
    "  plt.plot(x1, y1, 'r')\n",
    "  plt.scatter(X, Y)\n",
    "  plt.show()"
   ]
  },
  {
   "cell_type": "code",
   "execution_count": 33,
   "metadata": {},
   "outputs": [
    {
     "name": "stdout",
     "output_type": "stream",
     "text": [
      "0.5152631998062134 -0.44137823581695557\n"
     ]
    },
    {
     "data": {
      "image/png": "[encoded data removed]",
      "text/plain": [
       "<Figure size 432x288 with 1 Axes>"
      ]
     },
     "metadata": {
      "needs_background": "light"
     },
     "output_type": "display_data"
    }
   ],
   "source": [
    "plot_fit(model, 'Initial Model')"
   ]
  },
  {
   "attachments": {},
   "cell_type": "markdown",
   "metadata": {},
   "source": [
    "### Training the Model"
   ]
  },
  {
   "cell_type": "code",
   "execution_count": 34,
   "metadata": {},
   "outputs": [],
   "source": [
    "criterion = nn.MSELoss()  # define the lost fucntion\n",
    "optimizer = torch.optim.SGD(model.parameters(), lr = 0.01) # define the optimizer"
   ]
  },
  {
   "cell_type": "code",
   "execution_count": 35,
   "metadata": {},
   "outputs": [
    {
     "name": "stdout",
     "output_type": "stream",
     "text": [
      "epoch: 0 loss: 37.701290130615234\n",
      "epoch: 1 loss: 36.5147819519043\n",
      "epoch: 2 loss: 35.379066467285156\n",
      "epoch: 3 loss: 34.291996002197266\n",
      "epoch: 4 loss: 33.25142288208008\n",
      "epoch: 5 loss: 32.25541687011719\n",
      "epoch: 6 loss: 31.30202865600586\n",
      "epoch: 7 loss: 30.389450073242188\n",
      "epoch: 8 loss: 29.515932083129883\n",
      "epoch: 9 loss: 28.679834365844727\n",
      "epoch: 10 loss: 27.8795223236084\n",
      "epoch: 11 loss: 27.113447189331055\n",
      "epoch: 12 loss: 26.380172729492188\n",
      "epoch: 13 loss: 25.678298950195312\n",
      "epoch: 14 loss: 25.006479263305664\n",
      "epoch: 15 loss: 24.3634090423584\n",
      "epoch: 16 loss: 23.747861862182617\n",
      "epoch: 17 loss: 23.158672332763672\n",
      "epoch: 18 loss: 22.594703674316406\n",
      "epoch: 19 loss: 22.054872512817383\n",
      "epoch: 20 loss: 21.538145065307617\n",
      "epoch: 21 loss: 21.043540954589844\n",
      "epoch: 22 loss: 20.570106506347656\n",
      "epoch: 23 loss: 20.116933822631836\n",
      "epoch: 24 loss: 19.683155059814453\n",
      "epoch: 25 loss: 19.267946243286133\n",
      "epoch: 26 loss: 18.87051010131836\n",
      "epoch: 27 loss: 18.49008560180664\n",
      "epoch: 28 loss: 18.125940322875977\n",
      "epoch: 29 loss: 17.77739715576172\n",
      "epoch: 30 loss: 17.443767547607422\n",
      "epoch: 31 loss: 17.124414443969727\n",
      "epoch: 32 loss: 16.818723678588867\n",
      "epoch: 33 loss: 16.5261173248291\n",
      "epoch: 34 loss: 16.24604034423828\n",
      "epoch: 35 loss: 15.977953910827637\n",
      "epoch: 36 loss: 15.72134017944336\n",
      "epoch: 37 loss: 15.475700378417969\n",
      "epoch: 38 loss: 15.240577697753906\n",
      "epoch: 39 loss: 15.015517234802246\n",
      "epoch: 40 loss: 14.800092697143555\n",
      "epoch: 41 loss: 14.593883514404297\n",
      "epoch: 42 loss: 14.396507263183594\n",
      "epoch: 43 loss: 14.207574844360352\n",
      "epoch: 44 loss: 14.026721000671387\n",
      "epoch: 45 loss: 13.853615760803223\n",
      "epoch: 46 loss: 13.687918663024902\n",
      "epoch: 47 loss: 13.529306411743164\n",
      "epoch: 48 loss: 13.377484321594238\n",
      "epoch: 49 loss: 13.232160568237305\n",
      "epoch: 50 loss: 13.093056678771973\n",
      "epoch: 51 loss: 12.959907531738281\n",
      "epoch: 52 loss: 12.83245849609375\n",
      "epoch: 53 loss: 12.710460662841797\n",
      "epoch: 54 loss: 12.593681335449219\n",
      "epoch: 55 loss: 12.481904029846191\n",
      "epoch: 56 loss: 12.37491226196289\n",
      "epoch: 57 loss: 12.272497177124023\n",
      "epoch: 58 loss: 12.174464225769043\n",
      "epoch: 59 loss: 12.08062744140625\n",
      "epoch: 60 loss: 11.990802764892578\n",
      "epoch: 61 loss: 11.904823303222656\n",
      "epoch: 62 loss: 11.822524070739746\n",
      "epoch: 63 loss: 11.743743896484375\n",
      "epoch: 64 loss: 11.668335914611816\n",
      "epoch: 65 loss: 11.596156120300293\n",
      "epoch: 66 loss: 11.527063369750977\n",
      "epoch: 67 loss: 11.460928916931152\n",
      "epoch: 68 loss: 11.397623062133789\n",
      "epoch: 69 loss: 11.337027549743652\n",
      "epoch: 70 loss: 11.279022216796875\n",
      "epoch: 71 loss: 11.22349739074707\n",
      "epoch: 72 loss: 11.170352935791016\n",
      "epoch: 73 loss: 11.11948013305664\n",
      "epoch: 74 loss: 11.07078742980957\n",
      "epoch: 75 loss: 11.024174690246582\n",
      "epoch: 76 loss: 10.979557991027832\n",
      "epoch: 77 loss: 10.936847686767578\n",
      "epoch: 78 loss: 10.89596939086914\n",
      "epoch: 79 loss: 10.856834411621094\n",
      "epoch: 80 loss: 10.819375991821289\n",
      "epoch: 81 loss: 10.783520698547363\n",
      "epoch: 82 loss: 10.749201774597168\n",
      "epoch: 83 loss: 10.716347694396973\n",
      "epoch: 84 loss: 10.684901237487793\n",
      "epoch: 85 loss: 10.654799461364746\n",
      "epoch: 86 loss: 10.625985145568848\n",
      "epoch: 87 loss: 10.59840202331543\n",
      "epoch: 88 loss: 10.572002410888672\n",
      "epoch: 89 loss: 10.546731948852539\n",
      "epoch: 90 loss: 10.522540092468262\n",
      "epoch: 91 loss: 10.499384880065918\n",
      "epoch: 92 loss: 10.477219581604004\n",
      "epoch: 93 loss: 10.456002235412598\n",
      "epoch: 94 loss: 10.435694694519043\n",
      "epoch: 95 loss: 10.416254997253418\n",
      "epoch: 96 loss: 10.3976469039917\n",
      "epoch: 97 loss: 10.37983512878418\n",
      "epoch: 98 loss: 10.362784385681152\n",
      "epoch: 99 loss: 10.346463203430176\n"
     ]
    }
   ],
   "source": [
    "epochs = 100\n",
    "losses = []\n",
    "y_train = Y\n",
    "\n",
    "for i in range(epochs):  \n",
    "  # y_pred = model.forward(X)\n",
    "  y_pred = model(X)\n",
    "  loss = criterion(y_pred, y_train)\n",
    "  print(\"epoch:\", i, \"loss:\", loss.item())\n",
    "  \n",
    "  losses.append(loss.item())\n",
    "  optimizer.zero_grad()\n",
    "  loss.backward()\n",
    "  optimizer.step()"
   ]
  },
  {
   "cell_type": "code",
   "execution_count": 36,
   "metadata": {},
   "outputs": [
    {
     "data": {
      "text/plain": [
       "Text(0.5, 0, 'epoch')"
      ]
     },
     "execution_count": 36,
     "metadata": {},
     "output_type": "execute_result"
    },
    {
     "data": {
      "image/png": "[encoded data removed]",
      "text/plain": [
       "<Figure size 432x288 with 1 Axes>"
      ]
     },
     "metadata": {
      "needs_background": "light"
     },
     "output_type": "display_data"
    }
   ],
   "source": [
    "plt.plot(range(epochs), losses)\n",
    "plt.ylabel('Loss')\n",
    "plt.xlabel('epoch')"
   ]
  },
  {
   "cell_type": "code",
   "execution_count": null,
   "metadata": {},
   "outputs": [],
   "source": []
  }
 ],
 "metadata": {
  "kernelspec": {
   "display_name": "pytorch",
   "language": "python",
   "name": "python3"
  },
  "language_info": {
   "codemirror_mode": {
    "name": "ipython",
    "version": 3
   },
   "file_extension": ".py",
   "mimetype": "text/x-python",
   "name": "python",
   "nbconvert_exporter": "python",
   "pygments_lexer": "ipython3",
   "version": "3.9.7 (default, Sep 16 2021, 13:09:58) \n[GCC 7.5.0]"
  },
  "orig_nbformat": 4,
  "vscode": {
   "interpreter": {
    "hash": "c590231b1f51d5989b4da41967eebbefbfcb31b0fc59fef77bba73aea16a6209"
   }
  }
 },
 "nbformat": 4,
 "nbformat_minor": 2
}
